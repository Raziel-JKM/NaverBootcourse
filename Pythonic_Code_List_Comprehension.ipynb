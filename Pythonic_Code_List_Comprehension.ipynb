{
  "nbformat": 4,
  "nbformat_minor": 0,
  "metadata": {
    "colab": {
      "name": "Pythonic Code - List Comprehension.ipynb",
      "provenance": [],
      "authorship_tag": "ABX9TyM9e1H1yKXku/J3Wav1QxGs",
      "include_colab_link": true
    },
    "kernelspec": {
      "name": "python3",
      "display_name": "Python 3"
    },
    "language_info": {
      "name": "python"
    }
  },
  "cells": [
    {
      "cell_type": "markdown",
      "metadata": {
        "id": "view-in-github",
        "colab_type": "text"
      },
      "source": [
        "<a href=\"https://colab.research.google.com/github/Raziel-JKM/NaverBootcourse_machine-for-python/blob/main/Pythonic_Code_List_Comprehension.ipynb\" target=\"_parent\"><img src=\"https://colab.research.google.com/assets/colab-badge.svg\" alt=\"Open In Colab\"/></a>"
      ]
    },
    {
      "cell_type": "code",
      "metadata": {
        "id": "6c_81g5wWNgi"
      },
      "source": [
        "List comprehensions\n",
        "- 기존 List 사용하여 간단히 다른 List를 만드는 기법\n",
        "- 포괄적인 List, 포함되는 리스트라는 의미로 사용됨\n",
        "- 파이썬에서 가장 많이 사용되는 기법 중 하나\n",
        "- 일반적으로 for + append 보다 속도가 빠름"
      ],
      "execution_count": null,
      "outputs": []
    },
    {
      "cell_type": "code",
      "metadata": {
        "colab": {
          "base_uri": "https://localhost:8080/",
          "height": 130
        },
        "id": "m37x41ZDWdLI",
        "outputId": "c45f7dbe-e01e-46ed-8bdd-e4f933b7b5bc"
      },
      "source": [
        "result = []\n",
        "for i in range(10):\n",
        "result.append(i)\n",
        "\n",
        "result\n"
      ],
      "execution_count": 4,
      "outputs": [
        {
          "output_type": "error",
          "ename": "IndentationError",
          "evalue": "ignored",
          "traceback": [
            "\u001b[0;36m  File \u001b[0;32m\"<ipython-input-4-b2fac9390dac>\"\u001b[0;36m, line \u001b[0;32m3\u001b[0m\n\u001b[0;31m    result.append(i)\u001b[0m\n\u001b[0m         ^\u001b[0m\n\u001b[0;31mIndentationError\u001b[0m\u001b[0;31m:\u001b[0m expected an indented block\n"
          ]
        }
      ]
    },
    {
      "cell_type": "code",
      "metadata": {
        "colab": {
          "base_uri": "https://localhost:8080/"
        },
        "id": "bWKNlZyhW2gi",
        "outputId": "61c84f2e-818e-44c2-bf85-981606fff1c0"
      },
      "source": [
        "result = []\n",
        "\n",
        "for i in range(10):\n",
        "    result.append(i)\n",
        "\n",
        "print(result)"
      ],
      "execution_count": 5,
      "outputs": [
        {
          "output_type": "stream",
          "text": [
            "[0, 1, 2, 3, 4, 5, 6, 7, 8, 9]\n"
          ],
          "name": "stdout"
        }
      ]
    },
    {
      "cell_type": "code",
      "metadata": {
        "colab": {
          "base_uri": "https://localhost:8080/"
        },
        "id": "fIiMkqFGW-5c",
        "outputId": "456bbbd8-6206-42a4-a7c0-abfb86882dba"
      },
      "source": [
        " result = [i for i in range(10)]\n",
        "print(result)\n"
      ],
      "execution_count": 6,
      "outputs": [
        {
          "output_type": "stream",
          "text": [
            "[0, 1, 2, 3, 4, 5, 6, 7, 8, 9]\n"
          ],
          "name": "stdout"
        },
        {
          "output_type": "execute_result",
          "data": {
            "text/plain": [
              "[0, 1, 2, 3, 4, 5, 6, 7, 8, 9]"
            ]
          },
          "metadata": {
            "tags": []
          },
          "execution_count": 6
        }
      ]
    },
    {
      "cell_type": "code",
      "metadata": {
        "colab": {
          "base_uri": "https://localhost:8080/"
        },
        "id": "as1yk3d0XCnv",
        "outputId": "5f3ba65b-2153-466b-f3d0-06f933d55f40"
      },
      "source": [
        ">>> result = [i for i in range(10) if i % 2 == 0] # 조건 구문\n",
        ">>> result\n"
      ],
      "execution_count": 7,
      "outputs": [
        {
          "output_type": "execute_result",
          "data": {
            "text/plain": [
              "[0, 2, 4, 6, 8]"
            ]
          },
          "metadata": {
            "tags": []
          },
          "execution_count": 7
        }
      ]
    },
    {
      "cell_type": "code",
      "metadata": {
        "colab": {
          "base_uri": "https://localhost:8080/"
        },
        "id": "k8HcK1rcXrj0",
        "outputId": "719e158e-9464-4cd4-83df-e58769c0a02c"
      },
      "source": [
        "word_1 = \"Hello\"\n",
        "word_2 = \"World\"\n",
        "result = [i+j for i in word_1 for j in word_2]\n",
        "\n",
        "print(result)"
      ],
      "execution_count": 11,
      "outputs": [
        {
          "output_type": "stream",
          "text": [
            "['HW', 'Ho', 'Hr', 'Hl', 'Hd', 'eW', 'eo', 'er', 'el', 'ed', 'lW', 'lo', 'lr', 'll', 'ld', 'lW', 'lo', 'lr', 'll', 'ld', 'oW', 'oo', 'or', 'ol', 'od']\n"
          ],
          "name": "stdout"
        }
      ]
    },
    {
      "cell_type": "code",
      "metadata": {
        "colab": {
          "base_uri": "https://localhost:8080/"
        },
        "id": "59x9UEbwX9JJ",
        "outputId": "01f1d563-e2ad-4de6-bce8-b0ea78e5a435"
      },
      "source": [
        "# Nested For loop + if 문\n",
        "case_1 = [\"A\", \"B\", \"C\"]\n",
        "case_2 = [\"D\", \"E\", \"A\"]\n",
        "\n",
        "result = [i+j for i in case_1 for j in case_2]\n",
        "print(result)\n"
      ],
      "execution_count": 17,
      "outputs": [
        {
          "output_type": "stream",
          "text": [
            "['AD', 'AE', 'AA', 'BD', 'BE', 'BA', 'CD', 'CE', 'CA']\n"
          ],
          "name": "stdout"
        }
      ]
    },
    {
      "cell_type": "code",
      "metadata": {
        "colab": {
          "base_uri": "https://localhost:8080/"
        },
        "id": "kJjRGK0xX-1f",
        "outputId": "20bc2b54-385a-45db-f86e-f6abf021f97c"
      },
      "source": [
        "# if 문 추가\n",
        "result = [i+j for i in case_1 for j in case_2 if not(i==j)]\n",
        "result.sort()\n",
        "\n",
        "print(result)"
      ],
      "execution_count": 14,
      "outputs": [
        {
          "output_type": "stream",
          "text": [
            "['AD', 'AE', 'BA', 'BD', 'BE', 'CA', 'CD', 'CE']\n"
          ],
          "name": "stdout"
        }
      ]
    },
    {
      "cell_type": "code",
      "metadata": {
        "colab": {
          "base_uri": "https://localhost:8080/"
        },
        "id": "ckbYIAPRYXSa",
        "outputId": "cb6934f9-3e45-4f90-f452-7a3646e16f7f"
      },
      "source": [
        "#split + list Comprehension\n",
        "\n",
        "\n",
        "words = 'The quick brown fox jumps over the lazy dog'.split()\n",
        "print(words)\n",
        "\n",
        "stuff = [[w.upper(), w.lower(), len(w)] for w in words] #이해못함\n",
        "\n",
        "for i in stuff:\n",
        "    print(i)"
      ],
      "execution_count": 19,
      "outputs": [
        {
          "output_type": "stream",
          "text": [
            "['The', 'quick', 'brown', 'fox', 'jumps', 'over', 'the', 'lazy', 'dog']\n",
            "['THE', 'the', 3]\n",
            "['QUICK', 'quick', 5]\n",
            "['BROWN', 'brown', 5]\n",
            "['FOX', 'fox', 3]\n",
            "['JUMPS', 'jumps', 5]\n",
            "['OVER', 'over', 4]\n",
            "['THE', 'the', 3]\n",
            "['LAZY', 'lazy', 4]\n",
            "['DOG', 'dog', 3]\n"
          ],
          "name": "stdout"
        }
      ]
    }
  ]
}