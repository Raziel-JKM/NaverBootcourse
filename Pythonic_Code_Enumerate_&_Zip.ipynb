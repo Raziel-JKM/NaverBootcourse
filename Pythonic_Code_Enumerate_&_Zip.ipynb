{
  "nbformat": 4,
  "nbformat_minor": 0,
  "metadata": {
    "colab": {
      "name": "Pythonic Code : Enumerate & Zip.ipynb",
      "provenance": [],
      "authorship_tag": "ABX9TyN6VNNfC97h3qepjsieCLNn",
      "include_colab_link": true
    },
    "kernelspec": {
      "name": "python3",
      "display_name": "Python 3"
    },
    "language_info": {
      "name": "python"
    }
  },
  "cells": [
    {
      "cell_type": "markdown",
      "metadata": {
        "id": "view-in-github",
        "colab_type": "text"
      },
      "source": [
        "<a href=\"https://colab.research.google.com/github/Raziel-JKM/NaverBootcourse_machine-for-python/blob/main/Pythonic_Code_Enumerate_%26_Zip.ipynb\" target=\"_parent\"><img src=\"https://colab.research.google.com/assets/colab-badge.svg\" alt=\"Open In Colab\"/></a>"
      ]
    },
    {
      "cell_type": "markdown",
      "metadata": {
        "id": "lNfcMGn_ZnxC"
      },
      "source": [
        "리스트의 값을 추출할때 함께 인덱스를 추출할 수 있는 방법으로 이용되는 enumerate 와 \n",
        "두개 이상의 list 값을 병렬적으로 추출할 수 있는 zip 모듈을 사용하여 pythonic code를 작성하는 방법"
      ]
    },
    {
      "cell_type": "code",
      "metadata": {
        "colab": {
          "base_uri": "https://localhost:8080/"
        },
        "id": "AL5XSORpZFqm",
        "outputId": "49e0cded-761a-4ebd-8373-2fc863500e7f"
      },
      "source": [
        "#for loop + zip\n",
        "alist = ['a1', 'a2', 'a3']\n",
        "blist = ['b1', 'b2', 'b3']\n",
        "\n",
        "for a, b in zip(alist, blist):\n",
        "    print(a, b)"
      ],
      "execution_count": 1,
      "outputs": [
        {
          "output_type": "stream",
          "text": [
            "a1 b1\n",
            "a2 b2\n",
            "a3 b3\n"
          ],
          "name": "stdout"
        }
      ]
    },
    {
      "cell_type": "code",
      "metadata": {
        "colab": {
          "base_uri": "https://localhost:8080/"
        },
        "id": "txzLbymeZO_t",
        "outputId": "d88dafa0-9426-4692-9a67-4a6d6fdec7a4"
      },
      "source": [
        "#list comprehension + zip\n",
        "a, b, c = zip((1, 2, 3), (10, 20, 30), (100, 200, 300))\n",
        "print(a, b, c)\n",
        "\n",
        "print([sum(x) for x in zip((1, 2, 3), (10, 20, 30), (100, 200, 300))])"
      ],
      "execution_count": 2,
      "outputs": [
        {
          "output_type": "stream",
          "text": [
            "(1, 10, 100) (2, 20, 200) (3, 30, 300)\n",
            "[111, 222, 333]\n"
          ],
          "name": "stdout"
        }
      ]
    },
    {
      "cell_type": "code",
      "metadata": {
        "colab": {
          "base_uri": "https://localhost:8080/"
        },
        "id": "eeDAo7h1ZRbs",
        "outputId": "f3de42ca-5014-48a0-84eb-fc489591e3c4"
      },
      "source": [
        "#enumerate + zip\n",
        "alist = ['a1', 'a2', 'a3']\n",
        "blist = ['b1', 'b2', 'b3']\n",
        "\n",
        "for i, (a, b) in enumerate(zip(alist, blist)):\n",
        "    print(i, a, b)\n"
      ],
      "execution_count": 3,
      "outputs": [
        {
          "output_type": "stream",
          "text": [
            "0 a1 b1\n",
            "1 a2 b2\n",
            "2 a3 b3\n"
          ],
          "name": "stdout"
        }
      ]
    },
    {
      "cell_type": "code",
      "metadata": {
        "id": "Wj0oIkKvZih5"
      },
      "source": [
        ""
      ],
      "execution_count": null,
      "outputs": []
    },
    {
      "cell_type": "markdown",
      "metadata": {
        "id": "CwLGUmRXZi36"
      },
      "source": [
        ""
      ]
    }
  ]
}