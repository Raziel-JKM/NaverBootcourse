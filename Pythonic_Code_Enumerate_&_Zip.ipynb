{
  "nbformat": 4,
  "nbformat_minor": 0,
  "metadata": {
    "colab": {
      "name": "Pythonic Code : Enumerate & Zip.ipynb",
      "provenance": [],
      "authorship_tag": "ABX9TyPz16fpHtFyviDmm63PPeN5",
      "include_colab_link": true
    },
    "kernelspec": {
      "name": "python3",
      "display_name": "Python 3"
    },
    "language_info": {
      "name": "python"
    }
  },
  "cells": [
    {
      "cell_type": "markdown",
      "metadata": {
        "id": "view-in-github",
        "colab_type": "text"
      },
      "source": [
        "<a href=\"https://colab.research.google.com/github/Raziel-JKM/NaverBootcourse_machine-for-python/blob/main/Pythonic_Code_Enumerate_%26_Zip.ipynb\" target=\"_parent\"><img src=\"https://colab.research.google.com/assets/colab-badge.svg\" alt=\"Open In Colab\"/></a>"
      ]
    },
    {
      "cell_type": "markdown",
      "metadata": {
        "id": "lNfcMGn_ZnxC"
      },
      "source": [
        "리스트의 값을 추출할때 함께 인덱스를 추출할 수 있는 방법으로 이용되는 enumerate 와 \n",
        "두개 이상의 list 값을 병렬적으로 추출할 수 있는 zip 모듈을 사용하여 pythonic code를 작성하는 방법"
      ]
    },
    {
      "cell_type": "markdown",
      "metadata": {
        "id": "H8vvMVLHoevF"
      },
      "source": [
        "#Enumerate\n",
        "- 리스트가 있는 경우 순서와 리스트의 값을 전달하는 기능\n",
        "enumerate는 “열거하다”라는 뜻이다. \n",
        "- *이* 함수는 순서가 있는 자료형(리스트, 튜플, 문자열)을 입력으로 받아 인덱스 값을 포함하는 enumerate 객체를 리턴한다.\n",
        "보통 enumerate 함수는 아래 예제처럼 for문과 함께 자주 사용된다.\n",
        "- List의 element를 추출할 때 번호를 붙여서 추출"
      ]
    },
    {
      "cell_type": "code",
      "metadata": {
        "id": "QxFKAfUafrmA"
      },
      "source": [
        "\n",
        "\n",
        ">>> for i, v in enumerate(['tic', 'tac', 'toe']):\n",
        "# list의 있는 index와 값을 unpacking\n",
        "... print (i, v) #i 의 값에 \n",
        "...\n",
        "0 tic\n",
        "1 tac\n",
        "2 toe\n",
        "\n",
        ">>> mylist = [\"a\",\"b\",\"c\",\"d\"]\n",
        ">>> list(enumerate(mylist)) # list의 있는 index와 값을 unpacking하여 list로 저장\n",
        "[(0, 'a'), (1, 'b'), (2, 'c'), (3, 'd')]\n",
        "\n",
        ">>> {i:j for i,j in enumerate('Gachon University is an academic institute\n",
        "located in South Korea.'.split())}\n",
        "# 문장을 list로 만들고 list의 index와 값을 unpacking하여 dict로 저장\n",
        "{0: 'Gachon'\n",
        ", 1: 'University', 2: 'is', 3: 'an', 4: 'academic', 5: 'institute',\n",
        "6: 'located', 7: 'in', 8: 'South', 9: 'Korea.'}"
      ],
      "execution_count": null,
      "outputs": []
    },
    {
      "cell_type": "code",
      "metadata": {
        "colab": {
          "base_uri": "https://localhost:8080/"
        },
        "id": "9fVn9PCAoKzB",
        "outputId": "3815914d-cd6e-4042-f74e-bf8e65951a3d"
      },
      "source": [
        "names = ['철수', '영희', '영수']\n",
        "for i, name in enumerate(names):\n",
        "  print('{}번: {}'.format(i + 1, name))"
      ],
      "execution_count": 23,
      "outputs": [
        {
          "output_type": "stream",
          "text": [
            "1번: 철수\n",
            "2번: 영희\n",
            "3번: 영수\n"
          ],
          "name": "stdout"
        }
      ]
    },
    {
      "cell_type": "code",
      "metadata": {
        "colab": {
          "base_uri": "https://localhost:8080/"
        },
        "id": "REdiO1aPlFzo",
        "outputId": "2e1fa1e4-05df-4267-c2b2-62c691518343"
      },
      "source": [
        "L = ['apples', 'bananas', 'oranges'] #이해 아직x\n",
        "for idx, val in enumerate(L):\n",
        "  print(\"index is %d and value is %s\" % (idx, val))"
      ],
      "execution_count": 20,
      "outputs": [
        {
          "output_type": "stream",
          "text": [
            "index is 0 and value is apples\n",
            "index is 1 and value is bananas\n",
            "index is 2 and value is oranges\n"
          ],
          "name": "stdout"
        }
      ]
    },
    {
      "cell_type": "markdown",
      "metadata": {
        "id": "XGk3okY_owWn"
      },
      "source": [
        "#range 함수\n",
        "- 필요한 만큼의 숫자를 만들어내는 유용한 기능\n",
        "- range([start,] stop [,step])는 for문과 함께 자주 사용되는 함수이다. 이 함수는 입력받은 숫자에 해당되는 범위의 값을 반복 가능한 객체로 만들어 리턴한다.\n"
      ]
    },
    {
      "cell_type": "code",
      "metadata": {
        "colab": {
          "base_uri": "https://localhost:8080/"
        },
        "id": "W0_eQxcfo_4-",
        "outputId": "c7451b06-636b-48df-f4a4-5f38b6db4b03"
      },
      "source": [
        "list(range(5))#인수 1개 - 시작 숫자를 지정해 주지 않으면 range 함수는 0부터 시작한다.\n"
      ],
      "execution_count": 25,
      "outputs": [
        {
          "output_type": "execute_result",
          "data": {
            "text/plain": [
              "[0, 1, 2, 3, 4]"
            ]
          },
          "metadata": {
            "tags": []
          },
          "execution_count": 25
        }
      ]
    },
    {
      "cell_type": "code",
      "metadata": {
        "colab": {
          "base_uri": "https://localhost:8080/"
        },
        "id": "HpGT7cFXpCxH",
        "outputId": "60f9aba5-c413-4dd3-b11c-1a27747c79bc"
      },
      "source": [
        "list(range(5, 10))\n",
        "# 인수 2개 - 입력으로 주어지는 2개의 인수는 시작 숫자와 끝 숫자를 나타낸다.\n",
        "# 단, 끝 숫자는 해당 범위에 포함되지 않는다는 것에 주의하자."
      ],
      "execution_count": 26,
      "outputs": [
        {
          "output_type": "execute_result",
          "data": {
            "text/plain": [
              "[5, 6, 7, 8, 9]"
            ]
          },
          "metadata": {
            "tags": []
          },
          "execution_count": 26
        }
      ]
    },
    {
      "cell_type": "code",
      "metadata": {
        "colab": {
          "base_uri": "https://localhost:8080/"
        },
        "id": "hBpDVTi9pEb4",
        "outputId": "8edbc346-9850-489d-8da7-6e44fa20180c"
      },
      "source": [
        "range(1, 10, 3)# 인수 3개 - 세 번째 인수는 숫자 사이의 거리를 말한다."
      ],
      "execution_count": 27,
      "outputs": [
        {
          "output_type": "execute_result",
          "data": {
            "text/plain": [
              "range(1, 10, 3)"
            ]
          },
          "metadata": {
            "tags": []
          },
          "execution_count": 27
        }
      ]
    },
    {
      "cell_type": "code",
      "metadata": {
        "colab": {
          "base_uri": "https://localhost:8080/"
        },
        "id": "pktqY20YpFpZ",
        "outputId": "01cff329-1a44-47fa-dc61-d203f67fe80d"
      },
      "source": [
        "range(20, 10, -2)"
      ],
      "execution_count": 28,
      "outputs": [
        {
          "output_type": "execute_result",
          "data": {
            "text/plain": [
              "range(20, 10, -2)"
            ]
          },
          "metadata": {
            "tags": []
          },
          "execution_count": 28
        }
      ]
    },
    {
      "cell_type": "markdown",
      "metadata": {
        "id": "PINpaTDprLZY"
      },
      "source": [
        "#Zip\n"
      ]
    },
    {
      "cell_type": "code",
      "metadata": {
        "id": "JMf15kqsf4Gt"
      },
      "source": [
        "\n",
        "두 개의 list의 값을 병렬적으로 추출함\n",
        ">>> alist = ['a1', 'a2', 'a3']#alist->a에\n",
        ">>> blist = ['b1', 'b2', 'b3']#blist->b에 반영\n",
        ">>> for a, b in zip(alist, blist): # 병렬적으로 값을 추출\n",
        "... print (a,b)\n",
        "...\n",
        "a1 b1\n",
        "a2 b2\n",
        "a3 b3\n",
        ">>> a,b,c =zip((1,2,3),(10,20,30),(100,200,300)) #각 tuple의 같은 index 끼리\n",
        "묶음\n",
        "(1, 10, 100) (2, 20, 200) (3, 30, 300)\n",
        ">>> [sum(x) for x in zip((1,2,3), (10,20,30), (100,200,300))]\n",
        "# 각 Tuple 같은 index를 묶어 합을 list로 변환\n",
        "[111, 222, 333]"
      ],
      "execution_count": null,
      "outputs": []
    },
    {
      "cell_type": "code",
      "metadata": {
        "colab": {
          "base_uri": "https://localhost:8080/"
        },
        "id": "K8Tybiq5sBDM",
        "outputId": "f6431a86-8f8f-42fc-f31f-9e6507b81f96"
      },
      "source": [
        "a,b,c =zip((1,2,3),(10,20,30),(100,200,300))\n",
        "print(a,b,c)"
      ],
      "execution_count": 31,
      "outputs": [
        {
          "output_type": "stream",
          "text": [
            "(1, 10, 100) (2, 20, 200) (3, 30, 300)\n"
          ],
          "name": "stdout"
        }
      ]
    },
    {
      "cell_type": "code",
      "metadata": {
        "colab": {
          "base_uri": "https://localhost:8080/"
        },
        "id": "ym6fc3whsPrz",
        "outputId": "1a3da252-dccb-493f-f9d7-0c889106fdfb"
      },
      "source": [
        "[sum(x) for x in zip((1,2,3), (10,20,30), (100,200,300))]\n",
        "print([sum(x) for x in zip((1,2,3), (10,20,30), (100,200,300))])"
      ],
      "execution_count": 32,
      "outputs": [
        {
          "output_type": "stream",
          "text": [
            "[111, 222, 333]\n"
          ],
          "name": "stdout"
        }
      ]
    },
    {
      "cell_type": "code",
      "metadata": {
        "colab": {
          "base_uri": "https://localhost:8080/"
        },
        "id": "eeDAo7h1ZRbs",
        "outputId": "f3de42ca-5014-48a0-84eb-fc489591e3c4"
      },
      "source": [
        "#enumerate + zip (미숙달)\n",
        "alist = ['a1', 'a2', 'a3']\n",
        "blist = ['b1', 'b2', 'b3']\n",
        "\n",
        "for i, (a, b) in enumerate(zip(alist, blist)):\n",
        "    print(i, a, b)\n"
      ],
      "execution_count": 3,
      "outputs": [
        {
          "output_type": "stream",
          "text": [
            "0 a1 b1\n",
            "1 a2 b2\n",
            "2 a3 b3\n"
          ],
          "name": "stdout"
        }
      ]
    },
    {
      "cell_type": "code",
      "metadata": {
        "colab": {
          "base_uri": "https://localhost:8080/"
        },
        "id": "AL5XSORpZFqm",
        "outputId": "49e0cded-761a-4ebd-8373-2fc863500e7f"
      },
      "source": [
        "#for loop + zip\n",
        "alist = ['a1', 'a2', 'a3']\n",
        "blist = ['b1', 'b2', 'b3']\n",
        "\n",
        "for a, b in zip(alist, blist):\n",
        "    print(a, b)"
      ],
      "execution_count": 1,
      "outputs": [
        {
          "output_type": "stream",
          "text": [
            "a1 b1\n",
            "a2 b2\n",
            "a3 b3\n"
          ],
          "name": "stdout"
        }
      ]
    },
    {
      "cell_type": "code",
      "metadata": {
        "id": "QzEPOvPUfq-r"
      },
      "source": [
        ""
      ],
      "execution_count": null,
      "outputs": []
    },
    {
      "cell_type": "code",
      "metadata": {
        "colab": {
          "base_uri": "https://localhost:8080/"
        },
        "id": "txzLbymeZO_t",
        "outputId": "d88dafa0-9426-4692-9a67-4a6d6fdec7a4"
      },
      "source": [
        "#list comprehension + zip\n",
        "a, b, c = zip((1, 2, 3), (10, 20, 30), (100, 200, 300))\n",
        "print(a, b, c)\n",
        "\n",
        "print([sum(x) for x in zip((1, 2, 3), (10, 20, 30), (100, 200, 300))])"
      ],
      "execution_count": 2,
      "outputs": [
        {
          "output_type": "stream",
          "text": [
            "(1, 10, 100) (2, 20, 200) (3, 30, 300)\n",
            "[111, 222, 333]\n"
          ],
          "name": "stdout"
        }
      ]
    },
    {
      "cell_type": "code",
      "metadata": {
        "id": "Wj0oIkKvZih5"
      },
      "source": [
        ""
      ],
      "execution_count": null,
      "outputs": []
    },
    {
      "cell_type": "markdown",
      "metadata": {
        "id": "CwLGUmRXZi36"
      },
      "source": [
        "#len 함수\n",
        "- len(s)은 입력값 s의 길이(요소의 전체 개수)를 리턴하는 함수이다."
      ]
    },
    {
      "cell_type": "code",
      "metadata": {
        "id": "FA4SuEerpxwX"
      },
      "source": [
        ">>> len(\"python\")\n",
        "6\n",
        ">>> len([1,2,3])\n",
        "3\n",
        ">>> len((1, 'a'))\n",
        "2"
      ],
      "execution_count": null,
      "outputs": []
    },
    {
      "cell_type": "code",
      "metadata": {
        "colab": {
          "base_uri": "https://localhost:8080/"
        },
        "id": "qiZhG_Z7p0sD",
        "outputId": "f6fd6d3d-5185-4274-ba48-31997e9ab68b"
      },
      "source": [
        "rainbow=[\"빨\",\"주\",\"노\",\"초\",\"파\",\"남\",\"보\"]\n",
        "for i in range(len(rainbow)):\n",
        "\tcolor = rainbow[i]\n",
        "\tprint('{}번째 색은 {}'.format(i+1,color))"
      ],
      "execution_count": 29,
      "outputs": [
        {
          "output_type": "stream",
          "text": [
            "1번째 색은 빨\n",
            "2번째 색은 주\n",
            "3번째 색은 노\n",
            "4번째 색은 초\n",
            "5번째 색은 파\n",
            "6번째 색은 남\n",
            "7번째 색은 보\n"
          ],
          "name": "stdout"
        }
      ]
    }
  ]
}