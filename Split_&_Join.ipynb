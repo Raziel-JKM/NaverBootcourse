{
  "nbformat": 4,
  "nbformat_minor": 0,
  "metadata": {
    "colab": {
      "name": "Split & Join",
      "provenance": [],
      "authorship_tag": "ABX9TyPN3xl4gyJJX9zGaSnaJ6ZV",
      "include_colab_link": true
    },
    "kernelspec": {
      "name": "python3",
      "display_name": "Python 3"
    },
    "language_info": {
      "name": "python"
    }
  },
  "cells": [
    {
      "cell_type": "markdown",
      "metadata": {
        "id": "view-in-github",
        "colab_type": "text"
      },
      "source": [
        "<a href=\"https://colab.research.google.com/github/Raziel-JKM/NaverBootcourse_machine-for-python/blob/main/Split_%26_Join.ipynb\" target=\"_parent\"><img src=\"https://colab.research.google.com/assets/colab-badge.svg\" alt=\"Open In Colab\"/></a>"
      ]
    },
    {
      "cell_type": "code",
      "metadata": {
        "colab": {
          "base_uri": "https://localhost:8080/",
          "height": 130
        },
        "id": "MHsPfsjtRyzV",
        "outputId": "d1716760-7778-4c86-d82d-17a7ca59426d"
      },
      "source": [
        "items = [zero one two three].sprlit()"
      ],
      "execution_count": 2,
      "outputs": [
        {
          "output_type": "error",
          "ename": "SyntaxError",
          "evalue": "ignored",
          "traceback": [
            "\u001b[0;36m  File \u001b[0;32m\"<ipython-input-2-b88152969217>\"\u001b[0;36m, line \u001b[0;32m1\u001b[0m\n\u001b[0;31m    items = [zero one two three].sprlit()\u001b[0m\n\u001b[0m                    ^\u001b[0m\n\u001b[0;31mSyntaxError\u001b[0m\u001b[0;31m:\u001b[0m invalid syntax\n"
          ]
        }
      ]
    },
    {
      "cell_type": "code",
      "metadata": {
        "colab": {
          "base_uri": "https://localhost:8080/"
        },
        "id": "po2lUOQDSHaj",
        "outputId": "00a9cafe-aac0-4675-f382-71f38ce2dec7"
      },
      "source": [
        "items = 'zero one two three'.split()\n",
        "\n",
        "print(items)"
      ],
      "execution_count": 5,
      "outputs": [
        {
          "output_type": "stream",
          "text": [
            "['zero', 'one', 'two', 'three']\n"
          ],
          "name": "stdout"
        }
      ]
    },
    {
      "cell_type": "code",
      "metadata": {
        "colab": {
          "base_uri": "https://localhost:8080/"
        },
        "id": "INbLtNcfSSCy",
        "outputId": "60fb36b1-33de-4ec0-f9fd-726a7dc6572a"
      },
      "source": [
        "example = 'python,jquery,javascript'\n",
        "\n",
        "print(example.split(\",\")) # ,을 기준으로 나눈다"
      ],
      "execution_count": 6,
      "outputs": [
        {
          "output_type": "stream",
          "text": [
            "['python', 'jquery', 'javascript']\n"
          ],
          "name": "stdout"
        }
      ]
    },
    {
      "cell_type": "code",
      "metadata": {
        "colab": {
          "base_uri": "https://localhost:8080/"
        },
        "id": "VsqaQEYfSY5R",
        "outputId": "4c82beb6-b7a2-4c99-f4cb-32af6a03fae5"
      },
      "source": [
        "example = 'python,jquery,javascript'\n",
        "\n",
        "a, b, c = example.split(\",\")\n"
      ],
      "execution_count": 9,
      "outputs": [
        {
          "output_type": "stream",
          "text": [
            "['python', 'jquery', 'javascript']\n"
          ],
          "name": "stdout"
        }
      ]
    },
    {
      "cell_type": "code",
      "metadata": {
        "colab": {
          "base_uri": "https://localhost:8080/"
        },
        "id": "y2LU3yMwSnSa",
        "outputId": "b09250c7-d6a1-495c-8c4d-cb4fd2e9bfab"
      },
      "source": [
        "example = 'cs50.gachon.edu'\n",
        "\n",
        "subdomain, domain, tld = example.split(\".\")\n",
        "print(example.split(\",\"))"
      ],
      "execution_count": 11,
      "outputs": [
        {
          "output_type": "stream",
          "text": [
            "['cs50.gachon.edu']\n"
          ],
          "name": "stdout"
        }
      ]
    },
    {
      "cell_type": "code",
      "metadata": {
        "colab": {
          "base_uri": "https://localhost:8080/",
          "height": 35
        },
        "id": "IreX8YIXTBiq",
        "outputId": "ce483fd2-2296-46da-e3d0-71b90206decf"
      },
      "source": [
        "colors = ['red', 'blue', 'green', 'yellow']\n",
        "result = ''.join(colors)\n",
        "result"
      ],
      "execution_count": 13,
      "outputs": [
        {
          "output_type": "execute_result",
          "data": {
            "application/vnd.google.colaboratory.intrinsic+json": {
              "type": "string"
            },
            "text/plain": [
              "'redbluegreenyellow'"
            ]
          },
          "metadata": {
            "tags": []
          },
          "execution_count": 13
        }
      ]
    },
    {
      "cell_type": "code",
      "metadata": {
        "colab": {
          "base_uri": "https://localhost:8080/",
          "height": 35
        },
        "id": "Xdq5xSO8TK6t",
        "outputId": "1a659b17-8fef-49c7-bcc9-d23b7a983c15"
      },
      "source": [
        ">>> result = ' '.join(colors) # 연결 시 빈칸 1칸으로 연결\n",
        ">>> result\n",
        "'red blue green yellow'\n"
      ],
      "execution_count": 15,
      "outputs": [
        {
          "output_type": "execute_result",
          "data": {
            "application/vnd.google.colaboratory.intrinsic+json": {
              "type": "string"
            },
            "text/plain": [
              "'red blue green yellow'"
            ]
          },
          "metadata": {
            "tags": []
          },
          "execution_count": 15
        }
      ]
    },
    {
      "cell_type": "code",
      "metadata": {
        "colab": {
          "base_uri": "https://localhost:8080/",
          "height": 35
        },
        "id": "NkkqZxitTL0U",
        "outputId": "85569d12-8735-41c7-faa4-18ef0ba0c7d0"
      },
      "source": [
        ">>> result = ', '.join(colors) # 연결 시 \", \"으로 연결\n",
        ">>> result\n",
        "'red, blue, green, yellow'\n"
      ],
      "execution_count": 14,
      "outputs": [
        {
          "output_type": "execute_result",
          "data": {
            "application/vnd.google.colaboratory.intrinsic+json": {
              "type": "string"
            },
            "text/plain": [
              "'red, blue, green, yellow'"
            ]
          },
          "metadata": {
            "tags": []
          },
          "execution_count": 14
        }
      ]
    },
    {
      "cell_type": "code",
      "metadata": {
        "colab": {
          "base_uri": "https://localhost:8080/",
          "height": 35
        },
        "id": "ZxTZ3HqYTMEM",
        "outputId": "aad7973f-695e-4d09-e931-a7112150d278"
      },
      "source": [
        ">>> result = '-'.join(colors) # 연결 시 \"-\"으로 연결\n",
        ">>> result\n",
        "'red-blue-green-yellow'"
      ],
      "execution_count": 16,
      "outputs": [
        {
          "output_type": "execute_result",
          "data": {
            "application/vnd.google.colaboratory.intrinsic+json": {
              "type": "string"
            },
            "text/plain": [
              "'red-blue-green-yellow'"
            ]
          },
          "metadata": {
            "tags": []
          },
          "execution_count": 16
        }
      ]
    }
  ]
}