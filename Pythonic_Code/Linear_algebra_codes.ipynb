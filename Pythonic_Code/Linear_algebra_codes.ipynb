{
  "nbformat": 4,
  "nbformat_minor": 0,
  "metadata": {
    "colab": {
      "name": "Pythonic Code / Linear algebra codes",
      "provenance": [],
      "authorship_tag": "ABX9TyOr7KD8a3S0mRgC3KhmCT3J",
      "include_colab_link": true
    },
    "kernelspec": {
      "name": "python3",
      "display_name": "Python 3"
    },
    "language_info": {
      "name": "python"
    }
  },
  "cells": [
    {
      "cell_type": "markdown",
      "metadata": {
        "id": "view-in-github",
        "colab_type": "text"
      },
      "source": [
        "<a href=\"https://colab.research.google.com/github/Raziel-JKM/NaverBootcourse/blob/main/Pythonic_Code/Linear_algebra_codes.ipynb\" target=\"_parent\"><img src=\"https://colab.research.google.com/assets/colab-badge.svg\" alt=\"Open In Colab\"/></a>"
      ]
    },
    {
      "cell_type": "markdown",
      "metadata": {
        "id": "2dqJCSA1rFnJ"
      },
      "source": [
        "#Vector representation of python\n",
        "- **Vector를 파이썬으로 표시**하는 다양한 방법 존재\n",
        "vector_a = [1, 2, 10] # List로 표현했을 경우\n",
        "vector_b= (1, 2, 10) # Tuple로 표현했을 경우\n",
        "vector_c = {'x': 1, 'y': 1, 'z': 10} # dict 표현했을 경우\n",
        "print(vector_a, vector_b, vector_c) \n",
        "\n",
        "- 최선의 방법은 없음\n",
        "- 값의 변경 유무, 속성값 유무에 따라 선택할 수 있음\n",
        "- **본 수업에서는 기본적으로 list**로 vector 연산 실시"
      ]
    },
    {
      "cell_type": "code",
      "metadata": {
        "colab": {
          "base_uri": "https://localhost:8080/",
          "height": 130
        },
        "id": "DCsCvx9OtngK",
        "outputId": "1db241f4-18e0-4b11-e215-21001d05dc15"
      },
      "source": [
        "u = [2, 2]\n",
        "v = [2, 3]\n",
        "z = [3, 5]\n",
        "result = []#[2, 2]+[2, 3]+[3, 5]=[7, 10] 아름답지못함 #이런 코드는 쓰면 안됨 파이썬 답지 못하고 안 아름다움\n",
        "for i in range(len(u)):\n",
        "result.append(u[i] + v[i] + z[i])\n",
        "print(result)"
      ],
      "execution_count": 2,
      "outputs": [
        {
          "output_type": "error",
          "ename": "IndentationError",
          "evalue": "ignored",
          "traceback": [
            "\u001b[0;36m  File \u001b[0;32m\"<ipython-input-2-924cf17e2cd9>\"\u001b[0;36m, line \u001b[0;32m6\u001b[0m\n\u001b[0;31m    result.append(u[i] + v[i] + z[i])\u001b[0m\n\u001b[0m         ^\u001b[0m\n\u001b[0;31mIndentationError\u001b[0m\u001b[0;31m:\u001b[0m expected an indented block\n"
          ]
        }
      ]
    },
    {
      "cell_type": "code",
      "metadata": {
        "id": "M1v9Yf7_q2mP"
      },
      "source": [
        "u = [2, 2]\n",
        "v = [2, 3]\n",
        "z = [3, 5]\n",
        "\n",
        "result = [t for t in zip(u, v, z)]\n",
        "print (result) \n",
        "\n",
        "\n",
        "u = [1, 2, 3]\n",
        "v = [4, 4, 4]\n",
        "alpha = 2\n",
        "result = [2*sum(t) for t in zip(u, v)]\n",
        "print(result)"
      ],
      "execution_count": null,
      "outputs": []
    },
    {
      "cell_type": "code",
      "metadata": {
        "id": "hF6_R1q3q9kS"
      },
      "source": [
        "matrix_a = [[3, 6], [4, 5]]\n",
        "matrix_b = [[5, 8], [6, 7]]\n",
        "result = [[sum(row) for row in zip(*t)]\n",
        "          for t in zip(matrix_a, matrix_b)]\n",
        "\n",
        "print(result)\n",
        "\n",
        "\n",
        "matrix_a = [[3, 6], [4, 5]]\n",
        "alpha = 4\n",
        "result = [[alpha * element for element in t] for t in matrix_a]\n",
        "\n",
        "print(result)\n",
        "\n",
        "\n",
        "matrix_a = [[1, 2, 3], [4, 5, 6]]\n",
        "result = [[element for element in t] for t in zip(*matrix_a)]\n",
        "\n",
        "[t for t in zip(*matrix_a)]\n",
        "print(result)\n",
        "\n",
        "\n",
        "matrix_a = [[1, 1, 2], [2, 1, 1]]\n",
        "matrix_b = [[1, 1], [2, 1], [1, 3]]\n",
        "result = [[sum(a * b for a, b in zip(row_a, column_b))\n",
        "          for column_b in zip(*matrix_b)] for row_a in matrix_a]\n",
        "print(result)\n"
      ],
      "execution_count": null,
      "outputs": []
    }
  ]
}