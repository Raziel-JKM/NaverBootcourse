{
  "nbformat": 4,
  "nbformat_minor": 0,
  "metadata": {
    "colab": {
      "name": "Pythonic Code - Asterisk.ipynb",
      "provenance": [],
      "authorship_tag": "ABX9TyMAFFo7UIQItFVGGS5nJJw0",
      "include_colab_link": true
    },
    "kernelspec": {
      "name": "python3",
      "display_name": "Python 3"
    },
    "language_info": {
      "name": "python"
    }
  },
  "cells": [
    {
      "cell_type": "markdown",
      "metadata": {
        "id": "view-in-github",
        "colab_type": "text"
      },
      "source": [
        "<a href=\"https://colab.research.google.com/github/Raziel-JKM/NaverBootcourse_machine-for-python/blob/main/Pythonic_Code_Asterisk.ipynb\" target=\"_parent\"><img src=\"https://colab.research.google.com/assets/colab-badge.svg\" alt=\"Open In Colab\"/></a>"
      ]
    },
    {
      "cell_type": "code",
      "metadata": {
        "id": "fNpObevZzDk8"
      },
      "source": [
        ""
      ],
      "execution_count": null,
      "outputs": []
    },
    {
      "cell_type": "markdown",
      "metadata": {
        "id": "GddauNtozHVG"
      },
      "source": [
        "#Asterisk\n",
        "- 단순 곱셈, 제곱연산, 가변인자 활용 등 여러 부분에서 다양하게 사용되는 Asterisk(*) 의 사용법을\n",
        "여러 예제 코드를 직접 실습\n",
        "- 오픈소스에서 많이 보인다\n",
        "- 곱셈, 제곱 가변인자 활용 등 에서 많이 쓰임\n",
        "- 변수를 한번에 넘길떄 많이 쓰인다"
      ]
    },
    {
      "cell_type": "code",
      "metadata": {
        "colab": {
          "base_uri": "https://localhost:8080/"
        },
        "id": "lZJb0b3Fz5Fv",
        "outputId": "cb221d2b-20fa-4579-ef21-70756d366e33"
      },
      "source": [
        "def asterisk_test(a, *args):\n",
        "    print(a, args)\n",
        "    print(type(args))\n",
        "\n",
        "asterisk_test(1,2,3,4,5,6)# 1을 asterisk_test(a, *args) a에, (23456)를 *args 대입, 통째로 튜플형태로 들어간다, 가변인자라고 한다"
      ],
      "execution_count": 1,
      "outputs": [
        {
          "output_type": "stream",
          "text": [
            "1 (2, 3, 4, 5, 6)\n",
            "<class 'tuple'>\n"
          ],
          "name": "stdout"
        }
      ]
    },
    {
      "cell_type": "code",
      "metadata": {
        "colab": {
          "base_uri": "https://localhost:8080/"
        },
        "id": "UGXyLydBzWGC",
        "outputId": "195452b3-efd5-4396-ac1c-b96cd4eb5ee4"
      },
      "source": [
        "#키워드 인자를 넘겨줄때, dic타입으로 넘거간다. \n",
        "#판다스 라이브러리에서는 키워드 인자로 많이 넘어간다.\n",
        "def asterisk_test(a, **kargs):\n",
        "    print(a, kargs)\n",
        "    print(type(kargs))\n",
        "\n",
        "asterisk_test(1, b=2, c=3, d=4, e=5, f=6)"
      ],
      "execution_count": 10,
      "outputs": [
        {
          "output_type": "stream",
          "text": [
            "1 {'b': 2, 'c': 3, 'd': 4, 'e': 5, 'f': 6}\n",
            "<class 'dict'>\n"
          ],
          "name": "stdout"
        }
      ]
    },
    {
      "cell_type": "markdown",
      "metadata": {
        "id": "miVvyzSg1ai8"
      },
      "source": [
        "#Asterisk – unpacking a container\n",
        "- tuple, dict 등 자료형에 들어가 있는 값을 unpacking\n",
        "- 함수의 입력값, zip 등에 유용하게 사용가능"
      ]
    },
    {
      "cell_type": "code",
      "metadata": {
        "id": "QypAq71q1t4V"
      },
      "source": [
        "#실행안됨 ;;\n",
        "def asterisk_test(a, *args): # *args 하나의 변수가 아니라 나눠서 넘어주고 싶을때 / arg는 튜플 형태로 들어간다\n",
        "    print(a, args[0])\n",
        "    print(type(args)) \n",
        "  "
      ],
      "execution_count": 17,
      "outputs": []
    },
    {
      "cell_type": "code",
      "metadata": {
        "colab": {
          "base_uri": "https://localhost:8080/"
        },
        "id": "v1GNnTKr2i1O",
        "outputId": "7499cc7b-867d-43b7-8d0a-6c4ab025139e"
      },
      "source": [
        "a, b, c = ([1, 2], [3, 4], [5, 6])\n",
        "print(a, b, c)"
      ],
      "execution_count": 12,
      "outputs": [
        {
          "output_type": "stream",
          "text": [
            "[1, 2] [3, 4] [5, 6]\n"
          ],
          "name": "stdout"
        }
      ]
    },
    {
      "cell_type": "code",
      "metadata": {
        "colab": {
          "base_uri": "https://localhost:8080/"
        },
        "id": "6WSi6HEb2r-P",
        "outputId": "aa9f9fb8-7fb7-4606-e032-43adb26320e8"
      },
      "source": [
        "data = ([1, 2], [3, 4], [5, 6])\n",
        "print(*data)"
      ],
      "execution_count": 13,
      "outputs": [
        {
          "output_type": "stream",
          "text": [
            "[1, 2] [3, 4] [5, 6]\n"
          ],
          "name": "stdout"
        }
      ]
    },
    {
      "cell_type": "code",
      "metadata": {
        "colab": {
          "base_uri": "https://localhost:8080/",
          "height": 130
        },
        "id": "ukPAWj9F20mt",
        "outputId": "e63c016f-1d42-480a-bf71-27ffc0261594"
      },
      "source": [
        "# 실행안됨 ;;\n",
        "def asterisk_test(a, b, c, d,): \n",
        "print(a, b, c, d)\n",
        "data = {\"b\":1, \"c\":2, \"d\":3}\n",
        "asterisk_test(10, **data)\n"
      ],
      "execution_count": 16,
      "outputs": [
        {
          "output_type": "error",
          "ename": "IndentationError",
          "evalue": "ignored",
          "traceback": [
            "\u001b[0;36m  File \u001b[0;32m\"<ipython-input-16-c1168328a3fe>\"\u001b[0;36m, line \u001b[0;32m3\u001b[0m\n\u001b[0;31m    data = {\"b\":1 , \"c\":2, \"d\":3}\u001b[0m\n\u001b[0m       ^\u001b[0m\n\u001b[0;31mIndentationError\u001b[0m\u001b[0;31m:\u001b[0m expected an indented block\n"
          ]
        }
      ]
    },
    {
      "cell_type": "code",
      "metadata": {
        "colab": {
          "base_uri": "https://localhost:8080/",
          "height": 130
        },
        "id": "Aq3ZQzt23XXC",
        "outputId": "4b5cf5a6-9fa9-451a-8bf1-09f46cc9a559"
      },
      "source": [
        "# 실행안됨 ;;\n",
        "for data in zip(*([1, 2], [3, 4], [5, 6])): #135,246, 나와야한다는데 실행이 안됨\n",
        "print(data)"
      ],
      "execution_count": 19,
      "outputs": [
        {
          "output_type": "error",
          "ename": "IndentationError",
          "evalue": "ignored",
          "traceback": [
            "\u001b[0;36m  File \u001b[0;32m\"<ipython-input-19-8d9034f051ea>\"\u001b[0;36m, line \u001b[0;32m3\u001b[0m\n\u001b[0;31m    print(sum(data))\u001b[0m\n\u001b[0m        ^\u001b[0m\n\u001b[0;31mIndentationError\u001b[0m\u001b[0;31m:\u001b[0m expected an indented block\n"
          ]
        }
      ]
    },
    {
      "cell_type": "code",
      "metadata": {
        "colab": {
          "base_uri": "https://localhost:8080/"
        },
        "id": "KF7NH9XC4Jst",
        "outputId": "5152995b-1a4e-4f2f-db66-09dac17e1d7d"
      },
      "source": [
        "for data in zip(*([1, 2], [3, 4], [5, 6])):\n",
        "    print(data)"
      ],
      "execution_count": 22,
      "outputs": [
        {
          "output_type": "stream",
          "text": [
            "(1, 3, 5)\n",
            "(2, 4, 6)\n"
          ],
          "name": "stdout"
        }
      ]
    },
    {
      "cell_type": "code",
      "metadata": {
        "colab": {
          "base_uri": "https://localhost:8080/"
        },
        "id": "wCImgcMVzyYp",
        "outputId": "3aa64157-d705-4ccc-d4de-8628f6bc1363"
      },
      "source": [
        "for data in zip(*([1, 2], [3, 4], [5, 6])):\n",
        "    print(sum(data))\n",
        "\n"
      ],
      "execution_count": 21,
      "outputs": [
        {
          "output_type": "stream",
          "text": [
            "9\n",
            "12\n"
          ],
          "name": "stdout"
        }
      ]
    },
    {
      "cell_type": "code",
      "metadata": {
        "id": "dcixeLh9zZG2"
      },
      "source": [
        "\n",
        "\n",
        "asterisk_test(1, (2, 3, 4, 5, 6))\n",
        "def asterisk_test(a, args):\n",
        "    print(a, *args)\n",
        "    print(type(args))\n",
        "\n",
        "asterisk_test(1, (2,3,4,5,6))\n",
        "a, b, c = ([1, 2], [3, 4], [5, 6])\n",
        "print(a, b, c)\n",
        "\n",
        "data = ([1, 2], [3, 4], [5, 6])\n",
        "print(*data)"
      ],
      "execution_count": null,
      "outputs": []
    },
    {
      "cell_type": "code",
      "metadata": {
        "colab": {
          "base_uri": "https://localhost:8080/"
        },
        "id": "mDHQvQ5WzZv6",
        "outputId": "fc26350d-c844-4e55-e2f9-841b3c76cbb6"
      },
      "source": [
        "\n",
        "def asterisk_test(a, b, c, d, e=0):\n",
        "    print(a, b, c, d, e)\n",
        "data = {\"d\":1 , \"c\":2, \"b\":3, \"e\":56}\n",
        "asterisk_test(10, **data)"
      ],
      "execution_count": 24,
      "outputs": [
        {
          "output_type": "stream",
          "text": [
            "10 3 2 1 56\n"
          ],
          "name": "stdout"
        }
      ]
    }
  ]
}
