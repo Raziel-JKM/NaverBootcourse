{
  "nbformat": 4,
  "nbformat_minor": 0,
  "metadata": {
    "colab": {
      "name": "asterisk.ipynb",
      "provenance": [],
      "authorship_tag": "ABX9TyOBQRpCoRk8/7gzpi6YVgAP",
      "include_colab_link": true
    },
    "kernelspec": {
      "name": "python3",
      "display_name": "Python 3"
    },
    "language_info": {
      "name": "python"
    }
  },
  "cells": [
    {
      "cell_type": "markdown",
      "metadata": {
        "id": "view-in-github",
        "colab_type": "text"
      },
      "source": [
        "<a href=\"https://colab.research.google.com/github/Raziel-JKM/NaverBootcourse/blob/main/asterisk.ipynb\" target=\"_parent\"><img src=\"https://colab.research.google.com/assets/colab-badge.svg\" alt=\"Open In Colab\"/></a>"
      ]
    },
    {
      "cell_type": "code",
      "metadata": {
        "id": "nn2RrIc3UJ6G"
      },
      "source": [
        "def asterisk_test(a, *args):\n",
        "    print(a, args)\n",
        "    print(type(args))\n",
        "\n",
        "    asterisk_test(1,2,3,4,5,6)"
      ],
      "execution_count": 3,
      "outputs": []
    },
    {
      "cell_type": "code",
      "metadata": {
        "id": "D8ebv92qUGj2"
      },
      "source": [
        "\n",
        "\n",
        "\n",
        "\n",
        "\n",
        "def asterisk_test(a, **kargs):\n",
        "    print(a, kargs)\n",
        "    print(type(kargs))\n",
        "\n",
        "asterisk_test(1, b=2, c=3, d=4, e=5, f=6)\n",
        "\n",
        "\n",
        "def asterisk_test(a, *args):\n",
        "    print(a, args[0])\n",
        "    print(type(args))\n",
        "\n",
        "\n",
        "asterisk_test(1, (2, 3, 4, 5, 6))\n",
        "\n",
        "\n",
        "def asterisk_test(a, args):\n",
        "    print(a, *args)\n",
        "    print(type(args))\n",
        "\n",
        "asterisk_test(1, (2,3,4,5,6))\n",
        "\n",
        "a, b, c = ([1, 2], [3, 4], [5, 6])\n",
        "print(a, b, c)\n",
        "\n",
        "data = ([1, 2], [3, 4], [5, 6])\n",
        "print(*data)\n",
        "\n",
        "\n",
        "for data in zip(*([1, 2], [3, 4], [5, 6])):\n",
        "    print(sum(data))\n",
        "\n",
        "\n",
        "def asterisk_test(a, b, c, d, e=0):\n",
        "    print(a, b, c, d, e)\n",
        "\n",
        "\n",
        "data = {\"d\":1 , \"c\":2, \"b\":3, \"e\":56}\n",
        "asterisk_test(10, **data)"
      ],
      "execution_count": null,
      "outputs": []
    }
  ]
}